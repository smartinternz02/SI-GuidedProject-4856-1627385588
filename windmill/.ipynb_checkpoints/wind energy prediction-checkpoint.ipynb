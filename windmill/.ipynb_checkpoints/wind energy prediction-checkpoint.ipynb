{
 "cells": [
  {
   "cell_type": "code",
   "execution_count": 1,
   "metadata": {},
   "outputs": [],
   "source": [
    "import numpy as np\n",
    "import pandas as pd\n",
    "import matplotlib.pyplot as plt\n",
    "import joblib\n",
    "import seaborn as sns"
   ]
  },
  {
   "cell_type": "code",
   "execution_count": 2,
   "metadata": {},
   "outputs": [
    {
     "data": {
      "text/html": [
       "<div>\n",
       "<style scoped>\n",
       "    .dataframe tbody tr th:only-of-type {\n",
       "        vertical-align: middle;\n",
       "    }\n",
       "\n",
       "    .dataframe tbody tr th {\n",
       "        vertical-align: top;\n",
       "    }\n",
       "\n",
       "    .dataframe thead th {\n",
       "        text-align: right;\n",
       "    }\n",
       "</style>\n",
       "<table border=\"1\" class=\"dataframe\">\n",
       "  <thead>\n",
       "    <tr style=\"text-align: right;\">\n",
       "      <th></th>\n",
       "      <th>Date/Time</th>\n",
       "      <th>LV ActivePower (kW)</th>\n",
       "      <th>Wind Speed (m/s)</th>\n",
       "      <th>Theoretical_Power_Curve (KWh)</th>\n",
       "      <th>Wind Direction (°)</th>\n",
       "    </tr>\n",
       "  </thead>\n",
       "  <tbody>\n",
       "    <tr>\n",
       "      <th>0</th>\n",
       "      <td>01 01 2018 00:00</td>\n",
       "      <td>380.047791</td>\n",
       "      <td>5.311336</td>\n",
       "      <td>416.328908</td>\n",
       "      <td>259.994904</td>\n",
       "    </tr>\n",
       "    <tr>\n",
       "      <th>1</th>\n",
       "      <td>01 01 2018 00:10</td>\n",
       "      <td>453.769196</td>\n",
       "      <td>5.672167</td>\n",
       "      <td>519.917511</td>\n",
       "      <td>268.641113</td>\n",
       "    </tr>\n",
       "    <tr>\n",
       "      <th>2</th>\n",
       "      <td>01 01 2018 00:20</td>\n",
       "      <td>306.376587</td>\n",
       "      <td>5.216037</td>\n",
       "      <td>390.900016</td>\n",
       "      <td>272.564789</td>\n",
       "    </tr>\n",
       "    <tr>\n",
       "      <th>3</th>\n",
       "      <td>01 01 2018 00:30</td>\n",
       "      <td>419.645905</td>\n",
       "      <td>5.659674</td>\n",
       "      <td>516.127569</td>\n",
       "      <td>271.258087</td>\n",
       "    </tr>\n",
       "    <tr>\n",
       "      <th>4</th>\n",
       "      <td>01 01 2018 00:40</td>\n",
       "      <td>380.650696</td>\n",
       "      <td>5.577941</td>\n",
       "      <td>491.702972</td>\n",
       "      <td>265.674286</td>\n",
       "    </tr>\n",
       "    <tr>\n",
       "      <th>5</th>\n",
       "      <td>01 01 2018 00:50</td>\n",
       "      <td>402.391998</td>\n",
       "      <td>5.604052</td>\n",
       "      <td>499.436385</td>\n",
       "      <td>264.578613</td>\n",
       "    </tr>\n",
       "    <tr>\n",
       "      <th>6</th>\n",
       "      <td>01 01 2018 01:00</td>\n",
       "      <td>447.605713</td>\n",
       "      <td>5.793008</td>\n",
       "      <td>557.372363</td>\n",
       "      <td>266.163605</td>\n",
       "    </tr>\n",
       "    <tr>\n",
       "      <th>7</th>\n",
       "      <td>01 01 2018 01:10</td>\n",
       "      <td>387.242188</td>\n",
       "      <td>5.306050</td>\n",
       "      <td>414.898179</td>\n",
       "      <td>257.949493</td>\n",
       "    </tr>\n",
       "    <tr>\n",
       "      <th>8</th>\n",
       "      <td>01 01 2018 01:20</td>\n",
       "      <td>463.651215</td>\n",
       "      <td>5.584629</td>\n",
       "      <td>493.677652</td>\n",
       "      <td>253.480698</td>\n",
       "    </tr>\n",
       "    <tr>\n",
       "      <th>9</th>\n",
       "      <td>01 01 2018 01:30</td>\n",
       "      <td>439.725708</td>\n",
       "      <td>5.523228</td>\n",
       "      <td>475.706783</td>\n",
       "      <td>258.723785</td>\n",
       "    </tr>\n",
       "    <tr>\n",
       "      <th>10</th>\n",
       "      <td>01 01 2018 01:40</td>\n",
       "      <td>498.181702</td>\n",
       "      <td>5.724116</td>\n",
       "      <td>535.841397</td>\n",
       "      <td>251.850998</td>\n",
       "    </tr>\n",
       "    <tr>\n",
       "      <th>11</th>\n",
       "      <td>01 01 2018 01:50</td>\n",
       "      <td>526.816223</td>\n",
       "      <td>5.934199</td>\n",
       "      <td>603.014077</td>\n",
       "      <td>265.504700</td>\n",
       "    </tr>\n",
       "    <tr>\n",
       "      <th>12</th>\n",
       "      <td>01 01 2018 02:00</td>\n",
       "      <td>710.587280</td>\n",
       "      <td>6.547414</td>\n",
       "      <td>824.662514</td>\n",
       "      <td>274.232910</td>\n",
       "    </tr>\n",
       "    <tr>\n",
       "      <th>13</th>\n",
       "      <td>01 01 2018 02:10</td>\n",
       "      <td>655.194275</td>\n",
       "      <td>6.199746</td>\n",
       "      <td>693.472641</td>\n",
       "      <td>266.733185</td>\n",
       "    </tr>\n",
       "    <tr>\n",
       "      <th>14</th>\n",
       "      <td>01 01 2018 02:20</td>\n",
       "      <td>754.762512</td>\n",
       "      <td>6.505383</td>\n",
       "      <td>808.098138</td>\n",
       "      <td>266.760406</td>\n",
       "    </tr>\n",
       "    <tr>\n",
       "      <th>15</th>\n",
       "      <td>01 01 2018 02:30</td>\n",
       "      <td>790.173279</td>\n",
       "      <td>6.634116</td>\n",
       "      <td>859.459021</td>\n",
       "      <td>270.493195</td>\n",
       "    </tr>\n",
       "    <tr>\n",
       "      <th>16</th>\n",
       "      <td>01 01 2018 02:40</td>\n",
       "      <td>742.985291</td>\n",
       "      <td>6.378913</td>\n",
       "      <td>759.434537</td>\n",
       "      <td>266.593292</td>\n",
       "    </tr>\n",
       "    <tr>\n",
       "      <th>17</th>\n",
       "      <td>01 01 2018 02:50</td>\n",
       "      <td>748.229614</td>\n",
       "      <td>6.446653</td>\n",
       "      <td>785.281010</td>\n",
       "      <td>265.571808</td>\n",
       "    </tr>\n",
       "    <tr>\n",
       "      <th>18</th>\n",
       "      <td>01 01 2018 03:00</td>\n",
       "      <td>736.647827</td>\n",
       "      <td>6.415083</td>\n",
       "      <td>773.172863</td>\n",
       "      <td>261.158691</td>\n",
       "    </tr>\n",
       "    <tr>\n",
       "      <th>19</th>\n",
       "      <td>01 01 2018 03:10</td>\n",
       "      <td>787.246216</td>\n",
       "      <td>6.437531</td>\n",
       "      <td>781.771216</td>\n",
       "      <td>257.560211</td>\n",
       "    </tr>\n",
       "    <tr>\n",
       "      <th>20</th>\n",
       "      <td>01 01 2018 03:20</td>\n",
       "      <td>722.864075</td>\n",
       "      <td>6.220024</td>\n",
       "      <td>700.764700</td>\n",
       "      <td>255.926498</td>\n",
       "    </tr>\n",
       "    <tr>\n",
       "      <th>21</th>\n",
       "      <td>01 01 2018 03:30</td>\n",
       "      <td>935.033386</td>\n",
       "      <td>6.898026</td>\n",
       "      <td>970.736627</td>\n",
       "      <td>250.012894</td>\n",
       "    </tr>\n",
       "    <tr>\n",
       "      <th>22</th>\n",
       "      <td>01 01 2018 03:40</td>\n",
       "      <td>1220.609009</td>\n",
       "      <td>7.609711</td>\n",
       "      <td>1315.048928</td>\n",
       "      <td>255.985703</td>\n",
       "    </tr>\n",
       "    <tr>\n",
       "      <th>23</th>\n",
       "      <td>01 01 2018 03:50</td>\n",
       "      <td>1053.771973</td>\n",
       "      <td>7.288356</td>\n",
       "      <td>1151.265744</td>\n",
       "      <td>255.444595</td>\n",
       "    </tr>\n",
       "    <tr>\n",
       "      <th>24</th>\n",
       "      <td>01 01 2018 04:00</td>\n",
       "      <td>1493.807983</td>\n",
       "      <td>7.943102</td>\n",
       "      <td>1497.583724</td>\n",
       "      <td>256.407410</td>\n",
       "    </tr>\n",
       "    <tr>\n",
       "      <th>25</th>\n",
       "      <td>01 01 2018 04:10</td>\n",
       "      <td>1724.488037</td>\n",
       "      <td>8.376162</td>\n",
       "      <td>1752.199662</td>\n",
       "      <td>252.412598</td>\n",
       "    </tr>\n",
       "    <tr>\n",
       "      <th>26</th>\n",
       "      <td>01 01 2018 04:20</td>\n",
       "      <td>1636.935059</td>\n",
       "      <td>8.236958</td>\n",
       "      <td>1668.470707</td>\n",
       "      <td>247.979401</td>\n",
       "    </tr>\n",
       "    <tr>\n",
       "      <th>27</th>\n",
       "      <td>01 01 2018 04:30</td>\n",
       "      <td>1385.488037</td>\n",
       "      <td>7.879591</td>\n",
       "      <td>1461.815791</td>\n",
       "      <td>238.609604</td>\n",
       "    </tr>\n",
       "    <tr>\n",
       "      <th>28</th>\n",
       "      <td>01 01 2018 04:40</td>\n",
       "      <td>1098.932007</td>\n",
       "      <td>7.101376</td>\n",
       "      <td>1062.285034</td>\n",
       "      <td>245.095596</td>\n",
       "    </tr>\n",
       "    <tr>\n",
       "      <th>29</th>\n",
       "      <td>01 01 2018 04:50</td>\n",
       "      <td>1021.458008</td>\n",
       "      <td>6.955307</td>\n",
       "      <td>995.995855</td>\n",
       "      <td>245.410202</td>\n",
       "    </tr>\n",
       "    <tr>\n",
       "      <th>...</th>\n",
       "      <td>...</td>\n",
       "      <td>...</td>\n",
       "      <td>...</td>\n",
       "      <td>...</td>\n",
       "      <td>...</td>\n",
       "    </tr>\n",
       "    <tr>\n",
       "      <th>50500</th>\n",
       "      <td>31 12 2018 19:00</td>\n",
       "      <td>529.938904</td>\n",
       "      <td>5.197528</td>\n",
       "      <td>386.049437</td>\n",
       "      <td>97.632187</td>\n",
       "    </tr>\n",
       "    <tr>\n",
       "      <th>50501</th>\n",
       "      <td>31 12 2018 19:10</td>\n",
       "      <td>877.915283</td>\n",
       "      <td>5.782113</td>\n",
       "      <td>553.935635</td>\n",
       "      <td>90.309258</td>\n",
       "    </tr>\n",
       "    <tr>\n",
       "      <th>50502</th>\n",
       "      <td>31 12 2018 19:20</td>\n",
       "      <td>711.683228</td>\n",
       "      <td>5.478546</td>\n",
       "      <td>462.849436</td>\n",
       "      <td>87.520317</td>\n",
       "    </tr>\n",
       "    <tr>\n",
       "      <th>50503</th>\n",
       "      <td>31 12 2018 19:30</td>\n",
       "      <td>992.034119</td>\n",
       "      <td>6.146048</td>\n",
       "      <td>674.375292</td>\n",
       "      <td>84.240913</td>\n",
       "    </tr>\n",
       "    <tr>\n",
       "      <th>50504</th>\n",
       "      <td>31 12 2018 19:40</td>\n",
       "      <td>1574.197998</td>\n",
       "      <td>7.936307</td>\n",
       "      <td>1493.735939</td>\n",
       "      <td>78.987038</td>\n",
       "    </tr>\n",
       "    <tr>\n",
       "      <th>50505</th>\n",
       "      <td>31 12 2018 19:50</td>\n",
       "      <td>1706.860962</td>\n",
       "      <td>8.350188</td>\n",
       "      <td>1736.454419</td>\n",
       "      <td>79.042793</td>\n",
       "    </tr>\n",
       "    <tr>\n",
       "      <th>50506</th>\n",
       "      <td>31 12 2018 20:00</td>\n",
       "      <td>1731.552979</td>\n",
       "      <td>8.674524</td>\n",
       "      <td>1936.655737</td>\n",
       "      <td>78.169724</td>\n",
       "    </tr>\n",
       "    <tr>\n",
       "      <th>50507</th>\n",
       "      <td>31 12 2018 20:10</td>\n",
       "      <td>1592.900024</td>\n",
       "      <td>8.135880</td>\n",
       "      <td>1608.743387</td>\n",
       "      <td>78.773773</td>\n",
       "    </tr>\n",
       "    <tr>\n",
       "      <th>50508</th>\n",
       "      <td>31 12 2018 20:20</td>\n",
       "      <td>1403.121948</td>\n",
       "      <td>7.486556</td>\n",
       "      <td>1251.008410</td>\n",
       "      <td>80.061111</td>\n",
       "    </tr>\n",
       "    <tr>\n",
       "      <th>50509</th>\n",
       "      <td>31 12 2018 20:30</td>\n",
       "      <td>1433.415039</td>\n",
       "      <td>7.493729</td>\n",
       "      <td>1254.728650</td>\n",
       "      <td>81.279243</td>\n",
       "    </tr>\n",
       "    <tr>\n",
       "      <th>50510</th>\n",
       "      <td>31 12 2018 20:40</td>\n",
       "      <td>1550.709961</td>\n",
       "      <td>7.724678</td>\n",
       "      <td>1376.495123</td>\n",
       "      <td>79.519127</td>\n",
       "    </tr>\n",
       "    <tr>\n",
       "      <th>50511</th>\n",
       "      <td>31 12 2018 20:50</td>\n",
       "      <td>2062.549072</td>\n",
       "      <td>8.986495</td>\n",
       "      <td>2135.288428</td>\n",
       "      <td>81.056862</td>\n",
       "    </tr>\n",
       "    <tr>\n",
       "      <th>50512</th>\n",
       "      <td>31 12 2018 21:00</td>\n",
       "      <td>2309.875000</td>\n",
       "      <td>9.714014</td>\n",
       "      <td>2601.071371</td>\n",
       "      <td>80.272682</td>\n",
       "    </tr>\n",
       "    <tr>\n",
       "      <th>50513</th>\n",
       "      <td>31 12 2018 21:10</td>\n",
       "      <td>1901.602051</td>\n",
       "      <td>8.498631</td>\n",
       "      <td>1827.149165</td>\n",
       "      <td>79.394409</td>\n",
       "    </tr>\n",
       "    <tr>\n",
       "      <th>50514</th>\n",
       "      <td>31 12 2018 21:20</td>\n",
       "      <td>2240.629883</td>\n",
       "      <td>9.635618</td>\n",
       "      <td>2543.911219</td>\n",
       "      <td>79.356262</td>\n",
       "    </tr>\n",
       "    <tr>\n",
       "      <th>50515</th>\n",
       "      <td>31 12 2018 21:30</td>\n",
       "      <td>1814.355957</td>\n",
       "      <td>8.472826</td>\n",
       "      <td>1811.263260</td>\n",
       "      <td>79.699562</td>\n",
       "    </tr>\n",
       "    <tr>\n",
       "      <th>50516</th>\n",
       "      <td>31 12 2018 21:40</td>\n",
       "      <td>1992.348999</td>\n",
       "      <td>8.433422</td>\n",
       "      <td>1787.100338</td>\n",
       "      <td>80.132507</td>\n",
       "    </tr>\n",
       "    <tr>\n",
       "      <th>50517</th>\n",
       "      <td>31 12 2018 21:50</td>\n",
       "      <td>2554.377930</td>\n",
       "      <td>9.976660</td>\n",
       "      <td>2777.504103</td>\n",
       "      <td>80.081612</td>\n",
       "    </tr>\n",
       "    <tr>\n",
       "      <th>50518</th>\n",
       "      <td>31 12 2018 22:00</td>\n",
       "      <td>2681.270020</td>\n",
       "      <td>10.416830</td>\n",
       "      <td>3025.199012</td>\n",
       "      <td>80.452248</td>\n",
       "    </tr>\n",
       "    <tr>\n",
       "      <th>50519</th>\n",
       "      <td>31 12 2018 22:10</td>\n",
       "      <td>3019.893066</td>\n",
       "      <td>10.713670</td>\n",
       "      <td>3161.693967</td>\n",
       "      <td>80.960693</td>\n",
       "    </tr>\n",
       "    <tr>\n",
       "      <th>50520</th>\n",
       "      <td>31 12 2018 22:20</td>\n",
       "      <td>2771.110107</td>\n",
       "      <td>10.154550</td>\n",
       "      <td>2884.512812</td>\n",
       "      <td>82.335197</td>\n",
       "    </tr>\n",
       "    <tr>\n",
       "      <th>50521</th>\n",
       "      <td>31 12 2018 22:30</td>\n",
       "      <td>3333.819092</td>\n",
       "      <td>12.067660</td>\n",
       "      <td>3532.081496</td>\n",
       "      <td>81.985901</td>\n",
       "    </tr>\n",
       "    <tr>\n",
       "      <th>50522</th>\n",
       "      <td>31 12 2018 22:40</td>\n",
       "      <td>3455.282959</td>\n",
       "      <td>12.195660</td>\n",
       "      <td>3549.150371</td>\n",
       "      <td>82.210617</td>\n",
       "    </tr>\n",
       "    <tr>\n",
       "      <th>50523</th>\n",
       "      <td>31 12 2018 22:50</td>\n",
       "      <td>3429.021973</td>\n",
       "      <td>12.492510</td>\n",
       "      <td>3578.567804</td>\n",
       "      <td>82.111870</td>\n",
       "    </tr>\n",
       "    <tr>\n",
       "      <th>50524</th>\n",
       "      <td>31 12 2018 23:00</td>\n",
       "      <td>3514.269043</td>\n",
       "      <td>12.559170</td>\n",
       "      <td>3583.288363</td>\n",
       "      <td>80.495262</td>\n",
       "    </tr>\n",
       "    <tr>\n",
       "      <th>50525</th>\n",
       "      <td>31 12 2018 23:10</td>\n",
       "      <td>2963.980957</td>\n",
       "      <td>11.404030</td>\n",
       "      <td>3397.190793</td>\n",
       "      <td>80.502724</td>\n",
       "    </tr>\n",
       "    <tr>\n",
       "      <th>50526</th>\n",
       "      <td>31 12 2018 23:20</td>\n",
       "      <td>1684.353027</td>\n",
       "      <td>7.332648</td>\n",
       "      <td>1173.055771</td>\n",
       "      <td>84.062599</td>\n",
       "    </tr>\n",
       "    <tr>\n",
       "      <th>50527</th>\n",
       "      <td>31 12 2018 23:30</td>\n",
       "      <td>2201.106934</td>\n",
       "      <td>8.435358</td>\n",
       "      <td>1788.284755</td>\n",
       "      <td>84.742500</td>\n",
       "    </tr>\n",
       "    <tr>\n",
       "      <th>50528</th>\n",
       "      <td>31 12 2018 23:40</td>\n",
       "      <td>2515.694092</td>\n",
       "      <td>9.421366</td>\n",
       "      <td>2418.382503</td>\n",
       "      <td>84.297913</td>\n",
       "    </tr>\n",
       "    <tr>\n",
       "      <th>50529</th>\n",
       "      <td>31 12 2018 23:50</td>\n",
       "      <td>2820.466064</td>\n",
       "      <td>9.979332</td>\n",
       "      <td>2779.184096</td>\n",
       "      <td>82.274620</td>\n",
       "    </tr>\n",
       "  </tbody>\n",
       "</table>\n",
       "<p>50530 rows × 5 columns</p>\n",
       "</div>"
      ],
      "text/plain": [
       "              Date/Time  LV ActivePower (kW)  Wind Speed (m/s)  \\\n",
       "0      01 01 2018 00:00           380.047791          5.311336   \n",
       "1      01 01 2018 00:10           453.769196          5.672167   \n",
       "2      01 01 2018 00:20           306.376587          5.216037   \n",
       "3      01 01 2018 00:30           419.645905          5.659674   \n",
       "4      01 01 2018 00:40           380.650696          5.577941   \n",
       "5      01 01 2018 00:50           402.391998          5.604052   \n",
       "6      01 01 2018 01:00           447.605713          5.793008   \n",
       "7      01 01 2018 01:10           387.242188          5.306050   \n",
       "8      01 01 2018 01:20           463.651215          5.584629   \n",
       "9      01 01 2018 01:30           439.725708          5.523228   \n",
       "10     01 01 2018 01:40           498.181702          5.724116   \n",
       "11     01 01 2018 01:50           526.816223          5.934199   \n",
       "12     01 01 2018 02:00           710.587280          6.547414   \n",
       "13     01 01 2018 02:10           655.194275          6.199746   \n",
       "14     01 01 2018 02:20           754.762512          6.505383   \n",
       "15     01 01 2018 02:30           790.173279          6.634116   \n",
       "16     01 01 2018 02:40           742.985291          6.378913   \n",
       "17     01 01 2018 02:50           748.229614          6.446653   \n",
       "18     01 01 2018 03:00           736.647827          6.415083   \n",
       "19     01 01 2018 03:10           787.246216          6.437531   \n",
       "20     01 01 2018 03:20           722.864075          6.220024   \n",
       "21     01 01 2018 03:30           935.033386          6.898026   \n",
       "22     01 01 2018 03:40          1220.609009          7.609711   \n",
       "23     01 01 2018 03:50          1053.771973          7.288356   \n",
       "24     01 01 2018 04:00          1493.807983          7.943102   \n",
       "25     01 01 2018 04:10          1724.488037          8.376162   \n",
       "26     01 01 2018 04:20          1636.935059          8.236958   \n",
       "27     01 01 2018 04:30          1385.488037          7.879591   \n",
       "28     01 01 2018 04:40          1098.932007          7.101376   \n",
       "29     01 01 2018 04:50          1021.458008          6.955307   \n",
       "...                 ...                  ...               ...   \n",
       "50500  31 12 2018 19:00           529.938904          5.197528   \n",
       "50501  31 12 2018 19:10           877.915283          5.782113   \n",
       "50502  31 12 2018 19:20           711.683228          5.478546   \n",
       "50503  31 12 2018 19:30           992.034119          6.146048   \n",
       "50504  31 12 2018 19:40          1574.197998          7.936307   \n",
       "50505  31 12 2018 19:50          1706.860962          8.350188   \n",
       "50506  31 12 2018 20:00          1731.552979          8.674524   \n",
       "50507  31 12 2018 20:10          1592.900024          8.135880   \n",
       "50508  31 12 2018 20:20          1403.121948          7.486556   \n",
       "50509  31 12 2018 20:30          1433.415039          7.493729   \n",
       "50510  31 12 2018 20:40          1550.709961          7.724678   \n",
       "50511  31 12 2018 20:50          2062.549072          8.986495   \n",
       "50512  31 12 2018 21:00          2309.875000          9.714014   \n",
       "50513  31 12 2018 21:10          1901.602051          8.498631   \n",
       "50514  31 12 2018 21:20          2240.629883          9.635618   \n",
       "50515  31 12 2018 21:30          1814.355957          8.472826   \n",
       "50516  31 12 2018 21:40          1992.348999          8.433422   \n",
       "50517  31 12 2018 21:50          2554.377930          9.976660   \n",
       "50518  31 12 2018 22:00          2681.270020         10.416830   \n",
       "50519  31 12 2018 22:10          3019.893066         10.713670   \n",
       "50520  31 12 2018 22:20          2771.110107         10.154550   \n",
       "50521  31 12 2018 22:30          3333.819092         12.067660   \n",
       "50522  31 12 2018 22:40          3455.282959         12.195660   \n",
       "50523  31 12 2018 22:50          3429.021973         12.492510   \n",
       "50524  31 12 2018 23:00          3514.269043         12.559170   \n",
       "50525  31 12 2018 23:10          2963.980957         11.404030   \n",
       "50526  31 12 2018 23:20          1684.353027          7.332648   \n",
       "50527  31 12 2018 23:30          2201.106934          8.435358   \n",
       "50528  31 12 2018 23:40          2515.694092          9.421366   \n",
       "50529  31 12 2018 23:50          2820.466064          9.979332   \n",
       "\n",
       "       Theoretical_Power_Curve (KWh)  Wind Direction (°)  \n",
       "0                         416.328908          259.994904  \n",
       "1                         519.917511          268.641113  \n",
       "2                         390.900016          272.564789  \n",
       "3                         516.127569          271.258087  \n",
       "4                         491.702972          265.674286  \n",
       "5                         499.436385          264.578613  \n",
       "6                         557.372363          266.163605  \n",
       "7                         414.898179          257.949493  \n",
       "8                         493.677652          253.480698  \n",
       "9                         475.706783          258.723785  \n",
       "10                        535.841397          251.850998  \n",
       "11                        603.014077          265.504700  \n",
       "12                        824.662514          274.232910  \n",
       "13                        693.472641          266.733185  \n",
       "14                        808.098138          266.760406  \n",
       "15                        859.459021          270.493195  \n",
       "16                        759.434537          266.593292  \n",
       "17                        785.281010          265.571808  \n",
       "18                        773.172863          261.158691  \n",
       "19                        781.771216          257.560211  \n",
       "20                        700.764700          255.926498  \n",
       "21                        970.736627          250.012894  \n",
       "22                       1315.048928          255.985703  \n",
       "23                       1151.265744          255.444595  \n",
       "24                       1497.583724          256.407410  \n",
       "25                       1752.199662          252.412598  \n",
       "26                       1668.470707          247.979401  \n",
       "27                       1461.815791          238.609604  \n",
       "28                       1062.285034          245.095596  \n",
       "29                        995.995855          245.410202  \n",
       "...                              ...                 ...  \n",
       "50500                     386.049437           97.632187  \n",
       "50501                     553.935635           90.309258  \n",
       "50502                     462.849436           87.520317  \n",
       "50503                     674.375292           84.240913  \n",
       "50504                    1493.735939           78.987038  \n",
       "50505                    1736.454419           79.042793  \n",
       "50506                    1936.655737           78.169724  \n",
       "50507                    1608.743387           78.773773  \n",
       "50508                    1251.008410           80.061111  \n",
       "50509                    1254.728650           81.279243  \n",
       "50510                    1376.495123           79.519127  \n",
       "50511                    2135.288428           81.056862  \n",
       "50512                    2601.071371           80.272682  \n",
       "50513                    1827.149165           79.394409  \n",
       "50514                    2543.911219           79.356262  \n",
       "50515                    1811.263260           79.699562  \n",
       "50516                    1787.100338           80.132507  \n",
       "50517                    2777.504103           80.081612  \n",
       "50518                    3025.199012           80.452248  \n",
       "50519                    3161.693967           80.960693  \n",
       "50520                    2884.512812           82.335197  \n",
       "50521                    3532.081496           81.985901  \n",
       "50522                    3549.150371           82.210617  \n",
       "50523                    3578.567804           82.111870  \n",
       "50524                    3583.288363           80.495262  \n",
       "50525                    3397.190793           80.502724  \n",
       "50526                    1173.055771           84.062599  \n",
       "50527                    1788.284755           84.742500  \n",
       "50528                    2418.382503           84.297913  \n",
       "50529                    2779.184096           82.274620  \n",
       "\n",
       "[50530 rows x 5 columns]"
      ]
     },
     "execution_count": 2,
     "metadata": {},
     "output_type": "execute_result"
    }
   ],
   "source": [
    "dataset=pd.read_csv('T1.csv')\n",
    "dataset"
   ]
  },
  {
   "cell_type": "code",
   "execution_count": 3,
   "metadata": {},
   "outputs": [
    {
     "data": {
      "text/plain": [
       "Date/Time                        False\n",
       "LV ActivePower (kW)              False\n",
       "Wind Speed (m/s)                 False\n",
       "Theoretical_Power_Curve (KWh)    False\n",
       "Wind Direction (°)               False\n",
       "dtype: bool"
      ]
     },
     "execution_count": 3,
     "metadata": {},
     "output_type": "execute_result"
    }
   ],
   "source": [
    "dataset.isnull().any()"
   ]
  },
  {
   "cell_type": "code",
   "execution_count": null,
   "metadata": {},
   "outputs": [],
   "source": [
    "df.groupby(['race','parentDegree']).mean()"
   ]
  },
  {
   "cell_type": "code",
   "execution_count": 4,
   "metadata": {},
   "outputs": [
    {
     "data": {
      "text/plain": [
       "<matplotlib.axes._subplots.AxesSubplot at 0x236aa087e10>"
      ]
     },
     "execution_count": 4,
     "metadata": {},
     "output_type": "execute_result"
    },
    {
     "data": {
      "image/png": "[encoded data removed]",
      "text/plain": [
       "<Figure size 432x288 with 1 Axes>"
      ]
     },
     "metadata": {
      "needs_background": "light"
     },
     "output_type": "display_data"
    }
   ],
   "source": [
    "dataset['LV ActivePower (kW)'].hist(bins=90)"
   ]
  },
  {
   "cell_type": "code",
   "execution_count": 5,
   "metadata": {},
   "outputs": [
    {
     "data": {
      "text/plain": [
       "<matplotlib.axes._subplots.AxesSubplot at 0x236ac796940>"
      ]
     },
     "execution_count": 5,
     "metadata": {},
     "output_type": "execute_result"
    },
    {
     "data": {
      "image/png": "[encoded data removed]",
      "text/plain": [
       "<Figure size 720x504 with 1 Axes>"
      ]
     },
     "metadata": {
      "needs_background": "light"
     },
     "output_type": "display_data"
    }
   ],
   "source": [
    "plt.figure(figsize = (10, 7))\n",
    "dataset.boxplot()"
   ]
  },
  {
   "cell_type": "code",
   "execution_count": 6,
   "metadata": {},
   "outputs": [
    {
     "data": {
      "text/plain": [
       "<matplotlib.collections.PathCollection at 0x236ac863550>"
      ]
     },
     "execution_count": 6,
     "metadata": {},
     "output_type": "execute_result"
    },
    {
     "data": {
      "image/png": "[encoded data removed]",
      "text/plain": [
       "<Figure size 432x288 with 1 Axes>"
      ]
     },
     "metadata": {
      "needs_background": "light"
     },
     "output_type": "display_data"
    }
   ],
   "source": [
    "plt.scatter(dataset['Wind Speed (m/s)'],dataset['Wind Direction (°)'])"
   ]
  },
  {
   "cell_type": "code",
   "execution_count": 7,
   "metadata": {},
   "outputs": [],
   "source": [
    "dataset.drop(['Date/Time'],axis=1,inplace=True)"
   ]
  },
  {
   "cell_type": "code",
   "execution_count": 8,
   "metadata": {},
   "outputs": [
    {
     "data": {
      "text/plain": [
       "<matplotlib.axes._subplots.AxesSubplot at 0x236ac8ac390>"
      ]
     },
     "execution_count": 8,
     "metadata": {},
     "output_type": "execute_result"
    },
    {
     "data": {
      "image/png": "[encoded data removed]",
      "text/plain": [
       "<Figure size 432x288 with 1 Axes>"
      ]
     },
     "metadata": {
      "needs_background": "light"
     },
     "output_type": "display_data"
    }
   ],
   "source": [
    "sns.distplot(dataset['Wind Direction (°)'].dropna())"
   ]
  },
  {
   "cell_type": "code",
   "execution_count": 9,
   "metadata": {},
   "outputs": [],
   "source": [
    "dataset.drop(['Wind Direction (°)'],axis=1,inplace=True)"
   ]
  },
  {
   "cell_type": "code",
   "execution_count": 10,
   "metadata": {},
   "outputs": [
    {
     "data": {
      "text/html": [
       "<div>\n",
       "<style scoped>\n",
       "    .dataframe tbody tr th:only-of-type {\n",
       "        vertical-align: middle;\n",
       "    }\n",
       "\n",
       "    .dataframe tbody tr th {\n",
       "        vertical-align: top;\n",
       "    }\n",
       "\n",
       "    .dataframe thead th {\n",
       "        text-align: right;\n",
       "    }\n",
       "</style>\n",
       "<table border=\"1\" class=\"dataframe\">\n",
       "  <thead>\n",
       "    <tr style=\"text-align: right;\">\n",
       "      <th></th>\n",
       "      <th>LV ActivePower (kW)</th>\n",
       "      <th>Wind Speed (m/s)</th>\n",
       "      <th>Theoretical_Power_Curve (KWh)</th>\n",
       "    </tr>\n",
       "  </thead>\n",
       "  <tbody>\n",
       "    <tr>\n",
       "      <th>count</th>\n",
       "      <td>50530.000000</td>\n",
       "      <td>50530.000000</td>\n",
       "      <td>50530.000000</td>\n",
       "    </tr>\n",
       "    <tr>\n",
       "      <th>mean</th>\n",
       "      <td>1307.684332</td>\n",
       "      <td>7.557952</td>\n",
       "      <td>1492.175463</td>\n",
       "    </tr>\n",
       "    <tr>\n",
       "      <th>std</th>\n",
       "      <td>1312.459242</td>\n",
       "      <td>4.227166</td>\n",
       "      <td>1368.018238</td>\n",
       "    </tr>\n",
       "    <tr>\n",
       "      <th>min</th>\n",
       "      <td>-2.471405</td>\n",
       "      <td>0.000000</td>\n",
       "      <td>0.000000</td>\n",
       "    </tr>\n",
       "    <tr>\n",
       "      <th>25%</th>\n",
       "      <td>50.677890</td>\n",
       "      <td>4.201395</td>\n",
       "      <td>161.328167</td>\n",
       "    </tr>\n",
       "    <tr>\n",
       "      <th>50%</th>\n",
       "      <td>825.838074</td>\n",
       "      <td>7.104594</td>\n",
       "      <td>1063.776283</td>\n",
       "    </tr>\n",
       "    <tr>\n",
       "      <th>75%</th>\n",
       "      <td>2482.507568</td>\n",
       "      <td>10.300020</td>\n",
       "      <td>2964.972462</td>\n",
       "    </tr>\n",
       "    <tr>\n",
       "      <th>max</th>\n",
       "      <td>3618.732910</td>\n",
       "      <td>25.206011</td>\n",
       "      <td>3600.000000</td>\n",
       "    </tr>\n",
       "  </tbody>\n",
       "</table>\n",
       "</div>"
      ],
      "text/plain": [
       "       LV ActivePower (kW)  Wind Speed (m/s)  Theoretical_Power_Curve (KWh)\n",
       "count         50530.000000      50530.000000                   50530.000000\n",
       "mean           1307.684332          7.557952                    1492.175463\n",
       "std            1312.459242          4.227166                    1368.018238\n",
       "min              -2.471405          0.000000                       0.000000\n",
       "25%              50.677890          4.201395                     161.328167\n",
       "50%             825.838074          7.104594                    1063.776283\n",
       "75%            2482.507568         10.300020                    2964.972462\n",
       "max            3618.732910         25.206011                    3600.000000"
      ]
     },
     "execution_count": 10,
     "metadata": {},
     "output_type": "execute_result"
    }
   ],
   "source": [
    "dataset.describe()"
   ]
  },
  {
   "cell_type": "code",
   "execution_count": 11,
   "metadata": {},
   "outputs": [
    {
     "data": {
      "text/plain": [
       "<seaborn.axisgrid.PairGrid at 0x236abeb2908>"
      ]
     },
     "execution_count": 11,
     "metadata": {},
     "output_type": "execute_result"
    },
    {
     "data": {
      "image/png": "[encoded data removed]",
      "text/plain": [
       "<Figure size 540x540 with 12 Axes>"
      ]
     },
     "metadata": {
      "needs_background": "light"
     },
     "output_type": "display_data"
    }
   ],
   "source": [
    "dataset.rename(columns={'Date/Time':'Time',\n",
    "                   'LV ActivePower (kW)':'ActivePower(kW)',\n",
    "                   \"Wind Speed (m/s)\":\"WindSpeed(m/s)\",\n",
    "                   \"Wind Direction (°)\":\"Wind_Direction\"},\n",
    "                    inplace=True)\n",
    "sns.pairplot(dataset)"
   ]
  },
  {
   "cell_type": "markdown",
   "metadata": {},
   "source": [
    "#The heat map clearly tells us that there's no realtion between wind direction and \n",
    "the Power generated but Wind speed, Theoritical power and Actual power generated \n",
    "have a very positive correlation"
   ]
  },
  {
   "cell_type": "code",
   "execution_count": 12,
   "metadata": {},
   "outputs": [
    {
     "data": {
      "text/plain": [
       "<Figure size 720x576 with 0 Axes>"
      ]
     },
     "execution_count": 12,
     "metadata": {},
     "output_type": "execute_result"
    },
    {
     "data": {
      "text/plain": [
       "<Figure size 720x576 with 0 Axes>"
      ]
     },
     "metadata": {},
     "output_type": "display_data"
    }
   ],
   "source": [
    "corr = dataset.corr()\n",
    "plt.figure(figsize=(10, 8))"
   ]
  },
  {
   "cell_type": "code",
   "execution_count": 13,
   "metadata": {},
   "outputs": [
    {
     "data": {
      "image/png": "[encoded data removed]",
      "text/plain": [
       "<Figure size 432x288 with 2 Axes>"
      ]
     },
     "metadata": {
      "needs_background": "light"
     },
     "output_type": "display_data"
    },
    {
     "data": {
      "text/html": [
       "<div>\n",
       "<style scoped>\n",
       "    .dataframe tbody tr th:only-of-type {\n",
       "        vertical-align: middle;\n",
       "    }\n",
       "\n",
       "    .dataframe tbody tr th {\n",
       "        vertical-align: top;\n",
       "    }\n",
       "\n",
       "    .dataframe thead th {\n",
       "        text-align: right;\n",
       "    }\n",
       "</style>\n",
       "<table border=\"1\" class=\"dataframe\">\n",
       "  <thead>\n",
       "    <tr style=\"text-align: right;\">\n",
       "      <th></th>\n",
       "      <th>ActivePower(kW)</th>\n",
       "      <th>WindSpeed(m/s)</th>\n",
       "      <th>Theoretical_Power_Curve (KWh)</th>\n",
       "    </tr>\n",
       "  </thead>\n",
       "  <tbody>\n",
       "    <tr>\n",
       "      <th>ActivePower(kW)</th>\n",
       "      <td>1.000000</td>\n",
       "      <td>0.912774</td>\n",
       "      <td>0.949918</td>\n",
       "    </tr>\n",
       "    <tr>\n",
       "      <th>WindSpeed(m/s)</th>\n",
       "      <td>0.912774</td>\n",
       "      <td>1.000000</td>\n",
       "      <td>0.944209</td>\n",
       "    </tr>\n",
       "    <tr>\n",
       "      <th>Theoretical_Power_Curve (KWh)</th>\n",
       "      <td>0.949918</td>\n",
       "      <td>0.944209</td>\n",
       "      <td>1.000000</td>\n",
       "    </tr>\n",
       "  </tbody>\n",
       "</table>\n",
       "</div>"
      ],
      "text/plain": [
       "                               ActivePower(kW)  WindSpeed(m/s)  \\\n",
       "ActivePower(kW)                       1.000000        0.912774   \n",
       "WindSpeed(m/s)                        0.912774        1.000000   \n",
       "Theoretical_Power_Curve (KWh)         0.949918        0.944209   \n",
       "\n",
       "                               Theoretical_Power_Curve (KWh)  \n",
       "ActivePower(kW)                                     0.949918  \n",
       "WindSpeed(m/s)                                      0.944209  \n",
       "Theoretical_Power_Curve (KWh)                       1.000000  "
      ]
     },
     "execution_count": 13,
     "metadata": {},
     "output_type": "execute_result"
    }
   ],
   "source": [
    "ax = sns.heatmap(corr, vmin = -1, vmax = 1, annot = True)\n",
    "bottom, top = ax.get_ylim()\n",
    "ax.set_ylim(bottom + 0.5, top - 0.5)\n",
    "plt.show()\n",
    "corr"
   ]
  },
  {
   "cell_type": "code",
   "execution_count": 14,
   "metadata": {},
   "outputs": [],
   "source": [
    "#sns.distplot(dataset)"
   ]
  },
  {
   "cell_type": "code",
   "execution_count": 15,
   "metadata": {},
   "outputs": [
    {
     "data": {
      "text/plain": [
       "<matplotlib.axes._subplots.AxesSubplot at 0x236acfc7630>"
      ]
     },
     "execution_count": 15,
     "metadata": {},
     "output_type": "execute_result"
    },
    {
     "data": {
      "image/png": "[encoded data removed]",
      "text/plain": [
       "<Figure size 432x288 with 1 Axes>"
      ]
     },
     "metadata": {
      "needs_background": "light"
     },
     "output_type": "display_data"
    }
   ],
   "source": [
    "sns.boxplot(dataset['WindSpeed(m/s)'])"
   ]
  },
  {
   "cell_type": "code",
   "execution_count": 16,
   "metadata": {},
   "outputs": [
    {
     "data": {
      "text/plain": [
       "<matplotlib.axes._subplots.AxesSubplot at 0x236ad03d5f8>"
      ]
     },
     "execution_count": 16,
     "metadata": {},
     "output_type": "execute_result"
    },
    {
     "data": {
      "image/png": "[encoded data removed]",
      "text/plain": [
       "<Figure size 432x288 with 1 Axes>"
      ]
     },
     "metadata": {
      "needs_background": "light"
     },
     "output_type": "display_data"
    }
   ],
   "source": [
    "sns.boxplot(dataset['ActivePower(kW)'])"
   ]
  },
  {
   "cell_type": "code",
   "execution_count": 17,
   "metadata": {},
   "outputs": [
    {
     "data": {
      "text/plain": [
       "<matplotlib.axes._subplots.AxesSubplot at 0x236ad03d978>"
      ]
     },
     "execution_count": 17,
     "metadata": {},
     "output_type": "execute_result"
    },
    {
     "data": {
      "image/png": "[encoded data removed]",
      "text/plain": [
       "<Figure size 432x288 with 1 Axes>"
      ]
     },
     "metadata": {
      "needs_background": "light"
     },
     "output_type": "display_data"
    }
   ],
   "source": [
    "sns.boxplot(dataset['Theoretical_Power_Curve (KWh)'])"
   ]
  },
  {
   "cell_type": "code",
   "execution_count": 18,
   "metadata": {},
   "outputs": [],
   "source": [
    "from scipy import stats"
   ]
  },
  {
   "cell_type": "code",
   "execution_count": 19,
   "metadata": {},
   "outputs": [
    {
     "name": "stdout",
     "output_type": "stream",
     "text": [
      "<class 'pandas.core.frame.DataFrame'>\n",
      "RangeIndex: 50530 entries, 0 to 50529\n",
      "Data columns (total 3 columns):\n",
      "ActivePower(kW)                  50530 non-null float64\n",
      "WindSpeed(m/s)                   50530 non-null float64\n",
      "Theoretical_Power_Curve (KWh)    50530 non-null float64\n",
      "dtypes: float64(3)\n",
      "memory usage: 1.2 MB\n"
     ]
    }
   ],
   "source": [
    "dataset.info()"
   ]
  },
  {
   "cell_type": "code",
   "execution_count": 20,
   "metadata": {},
   "outputs": [
    {
     "data": {
      "text/plain": [
       "array([[0.70679964, 0.53147626, 0.78643484],\n",
       "       [0.65062865, 0.44611545, 0.71071243],\n",
       "       [0.76293238, 0.55402096, 0.80502315],\n",
       "       ...,\n",
       "       [0.68073081, 0.20756566, 0.21645342],\n",
       "       [0.92042608, 0.44082298, 0.6770496 ],\n",
       "       [1.1526428 , 0.57281963, 0.94079255]])"
      ]
     },
     "execution_count": 20,
     "metadata": {},
     "output_type": "execute_result"
    }
   ],
   "source": [
    "z=np.abs(stats.zscore(dataset))\n",
    "z"
   ]
  },
  {
   "cell_type": "code",
   "execution_count": 21,
   "metadata": {},
   "outputs": [
    {
     "data": {
      "text/plain": [
       "(array([ 2407,  2408,  2410,  2411,  2412,  2413,  2414,  2415,  2416,\n",
       "         2436,  2437,  2438,  2439,  2444,  2747,  2748,  2849,  2851,\n",
       "         2856,  2857,  2858,  2859,  2860,  2861,  3949,  3950,  3951,\n",
       "         3952,  3953,  3954,  3955,  3961,  3962,  3965,  3966,  3967,\n",
       "         3968,  3969,  3970,  3971,  3972,  3976,  3977,  3979,  3980,\n",
       "         3982,  3983,  3984,  3985,  3986,  3987,  3988,  3989,  3990,\n",
       "         3991,  3992,  3993,  3994,  3995,  3996,  4003,  4006,  4007,\n",
       "         4025,  4026,  4139,  4140,  4141,  4156,  4157,  4179,  4208,\n",
       "         4210,  4217,  4218,  4219,  4220,  4223,  4225,  4226,  4227,\n",
       "         4228,  4229,  4230,  4231,  4232,  4233,  4234,  4235,  4236,\n",
       "         4237,  4238,  4239,  4240,  4241,  4242,  4243,  4244,  4245,\n",
       "         4246,  4247,  4248,  4249,  4250,  4251,  4252,  4253,  4254,\n",
       "         4255,  4256,  4257,  4258,  4259,  4260,  4261,  4262,  4263,\n",
       "         4266,  4267,  4268,  4270,  4272,  4274,  4275,  4276,  4277,\n",
       "         4279,  4280,  4281,  4282,  4283,  4284,  4285,  4286,  4287,\n",
       "         4288,  4289,  4290,  4291,  4295,  4296,  4297,  4298,  4303,\n",
       "         4304,  4305,  4306,  7720,  8155,  8162,  8163,  8164,  8165,\n",
       "         8193,  8194,  8195,  8196,  8201,  8337,  8708,  8714,  8715,\n",
       "         8716,  8717,  8719,  8720,  8721,  8730,  8731,  8732,  8733,\n",
       "         8734,  8735,  8738,  8771,  8772,  8775, 10262, 10263, 10264,\n",
       "        10265, 10266, 10267, 10268, 10274, 10276, 10278, 10299, 10616,\n",
       "        10617, 10618, 10619, 10620, 10624, 10628, 10629, 12318, 12324,\n",
       "        12325, 12338, 12339, 12340, 12341, 12345, 12346, 44365, 45465,\n",
       "        45471, 45473, 49475, 49481, 49484, 49485, 49486, 49487, 49488,\n",
       "        49490, 49491, 49492, 49493, 49496, 49497, 49498, 49499, 49500,\n",
       "        49501, 49502, 49503], dtype=int64),\n",
       " array([1, 1, 1, 1, 1, 1, 1, 1, 1, 1, 1, 1, 1, 1, 1, 1, 1, 1, 1, 1, 1, 1,\n",
       "        1, 1, 1, 1, 1, 1, 1, 1, 1, 1, 1, 1, 1, 1, 1, 1, 1, 1, 1, 1, 1, 1,\n",
       "        1, 1, 1, 1, 1, 1, 1, 1, 1, 1, 1, 1, 1, 1, 1, 1, 1, 1, 1, 1, 1, 1,\n",
       "        1, 1, 1, 1, 1, 1, 1, 1, 1, 1, 1, 1, 1, 1, 1, 1, 1, 1, 1, 1, 1, 1,\n",
       "        1, 1, 1, 1, 1, 1, 1, 1, 1, 1, 1, 1, 1, 1, 1, 1, 1, 1, 1, 1, 1, 1,\n",
       "        1, 1, 1, 1, 1, 1, 1, 1, 1, 1, 1, 1, 1, 1, 1, 1, 1, 1, 1, 1, 1, 1,\n",
       "        1, 1, 1, 1, 1, 1, 1, 1, 1, 1, 1, 1, 1, 1, 1, 1, 1, 1, 1, 1, 1, 1,\n",
       "        1, 1, 1, 1, 1, 1, 1, 1, 1, 1, 1, 1, 1, 1, 1, 1, 1, 1, 1, 1, 1, 1,\n",
       "        1, 1, 1, 1, 1, 1, 1, 1, 1, 1, 1, 1, 1, 1, 1, 1, 1, 1, 1, 1, 1, 1,\n",
       "        1, 1, 1, 1, 1, 1, 1, 1, 1, 1, 1, 1, 1, 1, 1, 1, 1, 1, 1, 1, 1, 1,\n",
       "        1, 1, 1, 1, 1, 1, 1, 1], dtype=int64))"
      ]
     },
     "execution_count": 21,
     "metadata": {},
     "output_type": "execute_result"
    }
   ],
   "source": [
    "threshold=3\n",
    "np.where(z>threshold)"
   ]
  },
  {
   "cell_type": "code",
   "execution_count": 22,
   "metadata": {
    "scrolled": true
   },
   "outputs": [
    {
     "data": {
      "text/html": [
       "<div>\n",
       "<style scoped>\n",
       "    .dataframe tbody tr th:only-of-type {\n",
       "        vertical-align: middle;\n",
       "    }\n",
       "\n",
       "    .dataframe tbody tr th {\n",
       "        vertical-align: top;\n",
       "    }\n",
       "\n",
       "    .dataframe thead th {\n",
       "        text-align: right;\n",
       "    }\n",
       "</style>\n",
       "<table border=\"1\" class=\"dataframe\">\n",
       "  <thead>\n",
       "    <tr style=\"text-align: right;\">\n",
       "      <th></th>\n",
       "      <th>ActivePower(kW)</th>\n",
       "      <th>WindSpeed(m/s)</th>\n",
       "      <th>Theoretical_Power_Curve (KWh)</th>\n",
       "    </tr>\n",
       "  </thead>\n",
       "  <tbody>\n",
       "    <tr>\n",
       "      <th>0</th>\n",
       "      <td>380.047791</td>\n",
       "      <td>5.311336</td>\n",
       "      <td>416.328908</td>\n",
       "    </tr>\n",
       "    <tr>\n",
       "      <th>1</th>\n",
       "      <td>453.769196</td>\n",
       "      <td>5.672167</td>\n",
       "      <td>519.917511</td>\n",
       "    </tr>\n",
       "    <tr>\n",
       "      <th>2</th>\n",
       "      <td>306.376587</td>\n",
       "      <td>5.216037</td>\n",
       "      <td>390.900016</td>\n",
       "    </tr>\n",
       "    <tr>\n",
       "      <th>3</th>\n",
       "      <td>419.645905</td>\n",
       "      <td>5.659674</td>\n",
       "      <td>516.127569</td>\n",
       "    </tr>\n",
       "    <tr>\n",
       "      <th>4</th>\n",
       "      <td>380.650696</td>\n",
       "      <td>5.577941</td>\n",
       "      <td>491.702972</td>\n",
       "    </tr>\n",
       "    <tr>\n",
       "      <th>5</th>\n",
       "      <td>402.391998</td>\n",
       "      <td>5.604052</td>\n",
       "      <td>499.436385</td>\n",
       "    </tr>\n",
       "    <tr>\n",
       "      <th>6</th>\n",
       "      <td>447.605713</td>\n",
       "      <td>5.793008</td>\n",
       "      <td>557.372363</td>\n",
       "    </tr>\n",
       "    <tr>\n",
       "      <th>7</th>\n",
       "      <td>387.242188</td>\n",
       "      <td>5.306050</td>\n",
       "      <td>414.898179</td>\n",
       "    </tr>\n",
       "    <tr>\n",
       "      <th>8</th>\n",
       "      <td>463.651215</td>\n",
       "      <td>5.584629</td>\n",
       "      <td>493.677652</td>\n",
       "    </tr>\n",
       "    <tr>\n",
       "      <th>9</th>\n",
       "      <td>439.725708</td>\n",
       "      <td>5.523228</td>\n",
       "      <td>475.706783</td>\n",
       "    </tr>\n",
       "    <tr>\n",
       "      <th>10</th>\n",
       "      <td>498.181702</td>\n",
       "      <td>5.724116</td>\n",
       "      <td>535.841397</td>\n",
       "    </tr>\n",
       "    <tr>\n",
       "      <th>11</th>\n",
       "      <td>526.816223</td>\n",
       "      <td>5.934199</td>\n",
       "      <td>603.014077</td>\n",
       "    </tr>\n",
       "    <tr>\n",
       "      <th>12</th>\n",
       "      <td>710.587280</td>\n",
       "      <td>6.547414</td>\n",
       "      <td>824.662514</td>\n",
       "    </tr>\n",
       "    <tr>\n",
       "      <th>13</th>\n",
       "      <td>655.194275</td>\n",
       "      <td>6.199746</td>\n",
       "      <td>693.472641</td>\n",
       "    </tr>\n",
       "    <tr>\n",
       "      <th>14</th>\n",
       "      <td>754.762512</td>\n",
       "      <td>6.505383</td>\n",
       "      <td>808.098138</td>\n",
       "    </tr>\n",
       "    <tr>\n",
       "      <th>15</th>\n",
       "      <td>790.173279</td>\n",
       "      <td>6.634116</td>\n",
       "      <td>859.459021</td>\n",
       "    </tr>\n",
       "    <tr>\n",
       "      <th>16</th>\n",
       "      <td>742.985291</td>\n",
       "      <td>6.378913</td>\n",
       "      <td>759.434537</td>\n",
       "    </tr>\n",
       "    <tr>\n",
       "      <th>17</th>\n",
       "      <td>748.229614</td>\n",
       "      <td>6.446653</td>\n",
       "      <td>785.281010</td>\n",
       "    </tr>\n",
       "    <tr>\n",
       "      <th>18</th>\n",
       "      <td>736.647827</td>\n",
       "      <td>6.415083</td>\n",
       "      <td>773.172863</td>\n",
       "    </tr>\n",
       "    <tr>\n",
       "      <th>19</th>\n",
       "      <td>787.246216</td>\n",
       "      <td>6.437531</td>\n",
       "      <td>781.771216</td>\n",
       "    </tr>\n",
       "    <tr>\n",
       "      <th>20</th>\n",
       "      <td>722.864075</td>\n",
       "      <td>6.220024</td>\n",
       "      <td>700.764700</td>\n",
       "    </tr>\n",
       "    <tr>\n",
       "      <th>21</th>\n",
       "      <td>935.033386</td>\n",
       "      <td>6.898026</td>\n",
       "      <td>970.736627</td>\n",
       "    </tr>\n",
       "    <tr>\n",
       "      <th>22</th>\n",
       "      <td>1220.609009</td>\n",
       "      <td>7.609711</td>\n",
       "      <td>1315.048928</td>\n",
       "    </tr>\n",
       "    <tr>\n",
       "      <th>23</th>\n",
       "      <td>1053.771973</td>\n",
       "      <td>7.288356</td>\n",
       "      <td>1151.265744</td>\n",
       "    </tr>\n",
       "    <tr>\n",
       "      <th>24</th>\n",
       "      <td>1493.807983</td>\n",
       "      <td>7.943102</td>\n",
       "      <td>1497.583724</td>\n",
       "    </tr>\n",
       "    <tr>\n",
       "      <th>25</th>\n",
       "      <td>1724.488037</td>\n",
       "      <td>8.376162</td>\n",
       "      <td>1752.199662</td>\n",
       "    </tr>\n",
       "    <tr>\n",
       "      <th>26</th>\n",
       "      <td>1636.935059</td>\n",
       "      <td>8.236958</td>\n",
       "      <td>1668.470707</td>\n",
       "    </tr>\n",
       "    <tr>\n",
       "      <th>27</th>\n",
       "      <td>1385.488037</td>\n",
       "      <td>7.879591</td>\n",
       "      <td>1461.815791</td>\n",
       "    </tr>\n",
       "    <tr>\n",
       "      <th>28</th>\n",
       "      <td>1098.932007</td>\n",
       "      <td>7.101376</td>\n",
       "      <td>1062.285034</td>\n",
       "    </tr>\n",
       "    <tr>\n",
       "      <th>29</th>\n",
       "      <td>1021.458008</td>\n",
       "      <td>6.955307</td>\n",
       "      <td>995.995855</td>\n",
       "    </tr>\n",
       "    <tr>\n",
       "      <th>...</th>\n",
       "      <td>...</td>\n",
       "      <td>...</td>\n",
       "      <td>...</td>\n",
       "    </tr>\n",
       "    <tr>\n",
       "      <th>50500</th>\n",
       "      <td>529.938904</td>\n",
       "      <td>5.197528</td>\n",
       "      <td>386.049437</td>\n",
       "    </tr>\n",
       "    <tr>\n",
       "      <th>50501</th>\n",
       "      <td>877.915283</td>\n",
       "      <td>5.782113</td>\n",
       "      <td>553.935635</td>\n",
       "    </tr>\n",
       "    <tr>\n",
       "      <th>50502</th>\n",
       "      <td>711.683228</td>\n",
       "      <td>5.478546</td>\n",
       "      <td>462.849436</td>\n",
       "    </tr>\n",
       "    <tr>\n",
       "      <th>50503</th>\n",
       "      <td>992.034119</td>\n",
       "      <td>6.146048</td>\n",
       "      <td>674.375292</td>\n",
       "    </tr>\n",
       "    <tr>\n",
       "      <th>50504</th>\n",
       "      <td>1574.197998</td>\n",
       "      <td>7.936307</td>\n",
       "      <td>1493.735939</td>\n",
       "    </tr>\n",
       "    <tr>\n",
       "      <th>50505</th>\n",
       "      <td>1706.860962</td>\n",
       "      <td>8.350188</td>\n",
       "      <td>1736.454419</td>\n",
       "    </tr>\n",
       "    <tr>\n",
       "      <th>50506</th>\n",
       "      <td>1731.552979</td>\n",
       "      <td>8.674524</td>\n",
       "      <td>1936.655737</td>\n",
       "    </tr>\n",
       "    <tr>\n",
       "      <th>50507</th>\n",
       "      <td>1592.900024</td>\n",
       "      <td>8.135880</td>\n",
       "      <td>1608.743387</td>\n",
       "    </tr>\n",
       "    <tr>\n",
       "      <th>50508</th>\n",
       "      <td>1403.121948</td>\n",
       "      <td>7.486556</td>\n",
       "      <td>1251.008410</td>\n",
       "    </tr>\n",
       "    <tr>\n",
       "      <th>50509</th>\n",
       "      <td>1433.415039</td>\n",
       "      <td>7.493729</td>\n",
       "      <td>1254.728650</td>\n",
       "    </tr>\n",
       "    <tr>\n",
       "      <th>50510</th>\n",
       "      <td>1550.709961</td>\n",
       "      <td>7.724678</td>\n",
       "      <td>1376.495123</td>\n",
       "    </tr>\n",
       "    <tr>\n",
       "      <th>50511</th>\n",
       "      <td>2062.549072</td>\n",
       "      <td>8.986495</td>\n",
       "      <td>2135.288428</td>\n",
       "    </tr>\n",
       "    <tr>\n",
       "      <th>50512</th>\n",
       "      <td>2309.875000</td>\n",
       "      <td>9.714014</td>\n",
       "      <td>2601.071371</td>\n",
       "    </tr>\n",
       "    <tr>\n",
       "      <th>50513</th>\n",
       "      <td>1901.602051</td>\n",
       "      <td>8.498631</td>\n",
       "      <td>1827.149165</td>\n",
       "    </tr>\n",
       "    <tr>\n",
       "      <th>50514</th>\n",
       "      <td>2240.629883</td>\n",
       "      <td>9.635618</td>\n",
       "      <td>2543.911219</td>\n",
       "    </tr>\n",
       "    <tr>\n",
       "      <th>50515</th>\n",
       "      <td>1814.355957</td>\n",
       "      <td>8.472826</td>\n",
       "      <td>1811.263260</td>\n",
       "    </tr>\n",
       "    <tr>\n",
       "      <th>50516</th>\n",
       "      <td>1992.348999</td>\n",
       "      <td>8.433422</td>\n",
       "      <td>1787.100338</td>\n",
       "    </tr>\n",
       "    <tr>\n",
       "      <th>50517</th>\n",
       "      <td>2554.377930</td>\n",
       "      <td>9.976660</td>\n",
       "      <td>2777.504103</td>\n",
       "    </tr>\n",
       "    <tr>\n",
       "      <th>50518</th>\n",
       "      <td>2681.270020</td>\n",
       "      <td>10.416830</td>\n",
       "      <td>3025.199012</td>\n",
       "    </tr>\n",
       "    <tr>\n",
       "      <th>50519</th>\n",
       "      <td>3019.893066</td>\n",
       "      <td>10.713670</td>\n",
       "      <td>3161.693967</td>\n",
       "    </tr>\n",
       "    <tr>\n",
       "      <th>50520</th>\n",
       "      <td>2771.110107</td>\n",
       "      <td>10.154550</td>\n",
       "      <td>2884.512812</td>\n",
       "    </tr>\n",
       "    <tr>\n",
       "      <th>50521</th>\n",
       "      <td>3333.819092</td>\n",
       "      <td>12.067660</td>\n",
       "      <td>3532.081496</td>\n",
       "    </tr>\n",
       "    <tr>\n",
       "      <th>50522</th>\n",
       "      <td>3455.282959</td>\n",
       "      <td>12.195660</td>\n",
       "      <td>3549.150371</td>\n",
       "    </tr>\n",
       "    <tr>\n",
       "      <th>50523</th>\n",
       "      <td>3429.021973</td>\n",
       "      <td>12.492510</td>\n",
       "      <td>3578.567804</td>\n",
       "    </tr>\n",
       "    <tr>\n",
       "      <th>50524</th>\n",
       "      <td>3514.269043</td>\n",
       "      <td>12.559170</td>\n",
       "      <td>3583.288363</td>\n",
       "    </tr>\n",
       "    <tr>\n",
       "      <th>50525</th>\n",
       "      <td>2963.980957</td>\n",
       "      <td>11.404030</td>\n",
       "      <td>3397.190793</td>\n",
       "    </tr>\n",
       "    <tr>\n",
       "      <th>50526</th>\n",
       "      <td>1684.353027</td>\n",
       "      <td>7.332648</td>\n",
       "      <td>1173.055771</td>\n",
       "    </tr>\n",
       "    <tr>\n",
       "      <th>50527</th>\n",
       "      <td>2201.106934</td>\n",
       "      <td>8.435358</td>\n",
       "      <td>1788.284755</td>\n",
       "    </tr>\n",
       "    <tr>\n",
       "      <th>50528</th>\n",
       "      <td>2515.694092</td>\n",
       "      <td>9.421366</td>\n",
       "      <td>2418.382503</td>\n",
       "    </tr>\n",
       "    <tr>\n",
       "      <th>50529</th>\n",
       "      <td>2820.466064</td>\n",
       "      <td>9.979332</td>\n",
       "      <td>2779.184096</td>\n",
       "    </tr>\n",
       "  </tbody>\n",
       "</table>\n",
       "<p>50302 rows × 3 columns</p>\n",
       "</div>"
      ],
      "text/plain": [
       "       ActivePower(kW)  WindSpeed(m/s)  Theoretical_Power_Curve (KWh)\n",
       "0           380.047791        5.311336                     416.328908\n",
       "1           453.769196        5.672167                     519.917511\n",
       "2           306.376587        5.216037                     390.900016\n",
       "3           419.645905        5.659674                     516.127569\n",
       "4           380.650696        5.577941                     491.702972\n",
       "5           402.391998        5.604052                     499.436385\n",
       "6           447.605713        5.793008                     557.372363\n",
       "7           387.242188        5.306050                     414.898179\n",
       "8           463.651215        5.584629                     493.677652\n",
       "9           439.725708        5.523228                     475.706783\n",
       "10          498.181702        5.724116                     535.841397\n",
       "11          526.816223        5.934199                     603.014077\n",
       "12          710.587280        6.547414                     824.662514\n",
       "13          655.194275        6.199746                     693.472641\n",
       "14          754.762512        6.505383                     808.098138\n",
       "15          790.173279        6.634116                     859.459021\n",
       "16          742.985291        6.378913                     759.434537\n",
       "17          748.229614        6.446653                     785.281010\n",
       "18          736.647827        6.415083                     773.172863\n",
       "19          787.246216        6.437531                     781.771216\n",
       "20          722.864075        6.220024                     700.764700\n",
       "21          935.033386        6.898026                     970.736627\n",
       "22         1220.609009        7.609711                    1315.048928\n",
       "23         1053.771973        7.288356                    1151.265744\n",
       "24         1493.807983        7.943102                    1497.583724\n",
       "25         1724.488037        8.376162                    1752.199662\n",
       "26         1636.935059        8.236958                    1668.470707\n",
       "27         1385.488037        7.879591                    1461.815791\n",
       "28         1098.932007        7.101376                    1062.285034\n",
       "29         1021.458008        6.955307                     995.995855\n",
       "...                ...             ...                            ...\n",
       "50500       529.938904        5.197528                     386.049437\n",
       "50501       877.915283        5.782113                     553.935635\n",
       "50502       711.683228        5.478546                     462.849436\n",
       "50503       992.034119        6.146048                     674.375292\n",
       "50504      1574.197998        7.936307                    1493.735939\n",
       "50505      1706.860962        8.350188                    1736.454419\n",
       "50506      1731.552979        8.674524                    1936.655737\n",
       "50507      1592.900024        8.135880                    1608.743387\n",
       "50508      1403.121948        7.486556                    1251.008410\n",
       "50509      1433.415039        7.493729                    1254.728650\n",
       "50510      1550.709961        7.724678                    1376.495123\n",
       "50511      2062.549072        8.986495                    2135.288428\n",
       "50512      2309.875000        9.714014                    2601.071371\n",
       "50513      1901.602051        8.498631                    1827.149165\n",
       "50514      2240.629883        9.635618                    2543.911219\n",
       "50515      1814.355957        8.472826                    1811.263260\n",
       "50516      1992.348999        8.433422                    1787.100338\n",
       "50517      2554.377930        9.976660                    2777.504103\n",
       "50518      2681.270020       10.416830                    3025.199012\n",
       "50519      3019.893066       10.713670                    3161.693967\n",
       "50520      2771.110107       10.154550                    2884.512812\n",
       "50521      3333.819092       12.067660                    3532.081496\n",
       "50522      3455.282959       12.195660                    3549.150371\n",
       "50523      3429.021973       12.492510                    3578.567804\n",
       "50524      3514.269043       12.559170                    3583.288363\n",
       "50525      2963.980957       11.404030                    3397.190793\n",
       "50526      1684.353027        7.332648                    1173.055771\n",
       "50527      2201.106934        8.435358                    1788.284755\n",
       "50528      2515.694092        9.421366                    2418.382503\n",
       "50529      2820.466064        9.979332                    2779.184096\n",
       "\n",
       "[50302 rows x 3 columns]"
      ]
     },
     "execution_count": 22,
     "metadata": {},
     "output_type": "execute_result"
    }
   ],
   "source": [
    "dataset_withoutlayers=dataset[(z<=3).all(axis=1)]\n",
    "dataset_withoutlayers"
   ]
  },
  {
   "cell_type": "code",
   "execution_count": 23,
   "metadata": {
    "scrolled": false
   },
   "outputs": [
    {
     "data": {
      "text/plain": [
       "array([[ 380.04779053,    5.31133604],\n",
       "       [ 453.76919556,    5.67216682],\n",
       "       [ 306.37658691,    5.2160368 ],\n",
       "       ...,\n",
       "       [2201.10693359,    8.43535805],\n",
       "       [2515.6940918 ,    9.42136574],\n",
       "       [2820.46606445,    9.97933197]])"
      ]
     },
     "execution_count": 23,
     "metadata": {},
     "output_type": "execute_result"
    }
   ],
   "source": [
    "x=dataset_withoutlayers.iloc[:,0:2].values   \n",
    "x"
   ]
  },
  {
   "cell_type": "code",
   "execution_count": 24,
   "metadata": {
    "scrolled": true
   },
   "outputs": [
    {
     "data": {
      "text/plain": [
       "array([ 416.32890782,  519.91751106,  390.90001581, ..., 1788.28475526,\n",
       "       2418.38250336, 2779.18409628])"
      ]
     },
     "execution_count": 24,
     "metadata": {},
     "output_type": "execute_result"
    }
   ],
   "source": [
    "y=dataset_withoutlayers.iloc[:,-1].values\n",
    "y"
   ]
  },
  {
   "cell_type": "code",
   "execution_count": 25,
   "metadata": {},
   "outputs": [
    {
     "data": {
      "text/plain": [
       "<matplotlib.collections.PathCollection at 0x236ae2ead68>"
      ]
     },
     "execution_count": 25,
     "metadata": {},
     "output_type": "execute_result"
    },
    {
     "data": {
      "image/png": "[encoded data removed]",
      "text/plain": [
       "<Figure size 432x288 with 1 Axes>"
      ]
     },
     "metadata": {
      "needs_background": "light"
     },
     "output_type": "display_data"
    }
   ],
   "source": [
    "plt.scatter(x[:,1],y)"
   ]
  },
  {
   "cell_type": "code",
   "execution_count": 26,
   "metadata": {},
   "outputs": [
    {
     "data": {
      "text/plain": [
       "array([[-0.70215649, -0.52856266],\n",
       "       [-0.64573024, -0.44122973],\n",
       "       [-0.75854432, -0.55162822],\n",
       "       ...,\n",
       "       [ 0.69167936,  0.22755356],\n",
       "       [ 0.93246388,  0.4661999 ],\n",
       "       [ 1.16573588,  0.60124611]])"
      ]
     },
     "execution_count": 26,
     "metadata": {},
     "output_type": "execute_result"
    }
   ],
   "source": [
    "from sklearn.preprocessing import StandardScaler\n",
    "sc=StandardScaler()\n",
    "x=sc.fit_transform(x)\n",
    "x"
   ]
  },
  {
   "cell_type": "code",
   "execution_count": 27,
   "metadata": {},
   "outputs": [],
   "source": [
    "from sklearn.model_selection import train_test_split\n",
    "x_train,x_test,y_train,y_test=train_test_split(x,y,test_size=0.2,random_state=0)"
   ]
  },
  {
   "cell_type": "markdown",
   "metadata": {},
   "source": [
    "# Decision Tree"
   ]
  },
  {
   "cell_type": "code",
   "execution_count": 28,
   "metadata": {},
   "outputs": [
    {
     "data": {
      "text/plain": [
       "DecisionTreeRegressor(criterion='mse', max_depth=None, max_features=None,\n",
       "                      max_leaf_nodes=None, min_impurity_decrease=0.0,\n",
       "                      min_impurity_split=None, min_samples_leaf=1,\n",
       "                      min_samples_split=2, min_weight_fraction_leaf=0.0,\n",
       "                      presort=False, random_state=0, splitter='best')"
      ]
     },
     "execution_count": 28,
     "metadata": {},
     "output_type": "execute_result"
    }
   ],
   "source": [
    "from sklearn.tree import DecisionTreeRegressor\n",
    "dt=DecisionTreeRegressor(criterion=\"mse\",random_state=0)\n",
    "dt.fit(x_train,y_train)"
   ]
  },
  {
   "cell_type": "code",
   "execution_count": 29,
   "metadata": {},
   "outputs": [
    {
     "data": {
      "text/plain": [
       "array([ 201.37494147,  976.82140018, 1797.19624322, ...,  110.01878464,\n",
       "       3600.        , 3586.41732691])"
      ]
     },
     "execution_count": 29,
     "metadata": {},
     "output_type": "execute_result"
    }
   ],
   "source": [
    "y_pred_decision=dt.predict(x_test)\n",
    "y_pred_decision"
   ]
  },
  {
   "cell_type": "code",
   "execution_count": 30,
   "metadata": {},
   "outputs": [
    {
     "data": {
      "text/plain": [
       "0.9999999904050146"
      ]
     },
     "execution_count": 30,
     "metadata": {},
     "output_type": "execute_result"
    }
   ],
   "source": [
    "from sklearn.metrics import r2_score\n",
    "r2_score(y_test,y_pred_decision)"
   ]
  },
  {
   "cell_type": "code",
   "execution_count": 31,
   "metadata": {},
   "outputs": [
    {
     "data": {
      "text/plain": [
       "[<matplotlib.lines.Line2D at 0x236aef481d0>]"
      ]
     },
     "execution_count": 31,
     "metadata": {},
     "output_type": "execute_result"
    },
    {
     "data": {
      "image/png": "[encoded data removed]",
      "text/plain": [
       "<Figure size 432x288 with 1 Axes>"
      ]
     },
     "metadata": {
      "needs_background": "light"
     },
     "output_type": "display_data"
    }
   ],
   "source": [
    "plt.scatter(x_test[:,1],y_test)\n",
    "plt.plot(x_test[:,1],y_pred_decision,'r')"
   ]
  },
  {
   "cell_type": "code",
   "execution_count": 54,
   "metadata": {},
   "outputs": [
    {
     "ename": "InvocationException",
     "evalue": "Program terminated with status: 3221225725. stderr follows: []",
     "output_type": "error",
     "traceback": [
      "\u001b[1;31m---------------------------------------------------------------------------\u001b[0m",
      "\u001b[1;31mInvocationException\u001b[0m                       Traceback (most recent call last)",
      "\u001b[1;32m<ipython-input-54-17c4b777f4c1>\u001b[0m in \u001b[0;36m<module>\u001b[1;34m\u001b[0m\n\u001b[0;32m      8\u001b[0m                special_characters=True)\n\u001b[0;32m      9\u001b[0m \u001b[0mgraph\u001b[0m\u001b[1;33m=\u001b[0m\u001b[0mpydotplus\u001b[0m\u001b[1;33m.\u001b[0m\u001b[0mgraph_from_dot_data\u001b[0m\u001b[1;33m(\u001b[0m\u001b[0mdot_data\u001b[0m\u001b[1;33m.\u001b[0m\u001b[0mgetvalue\u001b[0m\u001b[1;33m(\u001b[0m\u001b[1;33m)\u001b[0m\u001b[1;33m)\u001b[0m\u001b[1;33m\u001b[0m\u001b[1;33m\u001b[0m\u001b[0m\n\u001b[1;32m---> 10\u001b[1;33m \u001b[0mImage\u001b[0m\u001b[1;33m(\u001b[0m\u001b[0mgraph\u001b[0m\u001b[1;33m.\u001b[0m\u001b[0mcreate_png\u001b[0m\u001b[1;33m(\u001b[0m\u001b[1;33m)\u001b[0m\u001b[1;33m)\u001b[0m\u001b[1;33m\u001b[0m\u001b[1;33m\u001b[0m\u001b[0m\n\u001b[0m",
      "\u001b[1;32m~\\Anaconda3\\lib\\site-packages\\pydotplus\\graphviz.py\u001b[0m in \u001b[0;36m<lambda>\u001b[1;34m(f, prog)\u001b[0m\n\u001b[0;32m   1795\u001b[0m             self.__setattr__(\n\u001b[0;32m   1796\u001b[0m                 \u001b[1;34m'create_'\u001b[0m \u001b[1;33m+\u001b[0m \u001b[0mfrmt\u001b[0m\u001b[1;33m,\u001b[0m\u001b[1;33m\u001b[0m\u001b[1;33m\u001b[0m\u001b[0m\n\u001b[1;32m-> 1797\u001b[1;33m                 \u001b[1;32mlambda\u001b[0m \u001b[0mf\u001b[0m\u001b[1;33m=\u001b[0m\u001b[0mfrmt\u001b[0m\u001b[1;33m,\u001b[0m \u001b[0mprog\u001b[0m\u001b[1;33m=\u001b[0m\u001b[0mself\u001b[0m\u001b[1;33m.\u001b[0m\u001b[0mprog\u001b[0m\u001b[1;33m:\u001b[0m \u001b[0mself\u001b[0m\u001b[1;33m.\u001b[0m\u001b[0mcreate\u001b[0m\u001b[1;33m(\u001b[0m\u001b[0mformat\u001b[0m\u001b[1;33m=\u001b[0m\u001b[0mf\u001b[0m\u001b[1;33m,\u001b[0m \u001b[0mprog\u001b[0m\u001b[1;33m=\u001b[0m\u001b[0mprog\u001b[0m\u001b[1;33m)\u001b[0m\u001b[1;33m\u001b[0m\u001b[1;33m\u001b[0m\u001b[0m\n\u001b[0m\u001b[0;32m   1798\u001b[0m             )\n\u001b[0;32m   1799\u001b[0m             \u001b[0mf\u001b[0m \u001b[1;33m=\u001b[0m \u001b[0mself\u001b[0m\u001b[1;33m.\u001b[0m\u001b[0m__dict__\u001b[0m\u001b[1;33m[\u001b[0m\u001b[1;34m'create_'\u001b[0m \u001b[1;33m+\u001b[0m \u001b[0mfrmt\u001b[0m\u001b[1;33m]\u001b[0m\u001b[1;33m\u001b[0m\u001b[1;33m\u001b[0m\u001b[0m\n",
      "\u001b[1;32m~\\Anaconda3\\lib\\site-packages\\pydotplus\\graphviz.py\u001b[0m in \u001b[0;36mcreate\u001b[1;34m(self, prog, format)\u001b[0m\n\u001b[0;32m   2030\u001b[0m             raise InvocationException(\n\u001b[0;32m   2031\u001b[0m                 'Program terminated with status: %d. stderr follows: %s' % (\n\u001b[1;32m-> 2032\u001b[1;33m                     status, stderr_output))\n\u001b[0m\u001b[0;32m   2033\u001b[0m         \u001b[1;32melif\u001b[0m \u001b[0mstderr_output\u001b[0m\u001b[1;33m:\u001b[0m\u001b[1;33m\u001b[0m\u001b[1;33m\u001b[0m\u001b[0m\n\u001b[0;32m   2034\u001b[0m             \u001b[0mprint\u001b[0m\u001b[1;33m(\u001b[0m\u001b[0mstderr_output\u001b[0m\u001b[1;33m)\u001b[0m\u001b[1;33m\u001b[0m\u001b[1;33m\u001b[0m\u001b[0m\n",
      "\u001b[1;31mInvocationException\u001b[0m: Program terminated with status: 3221225725. stderr follows: []"
     ]
    }
   ],
   "source": [
    "from six import StringIO\n",
    "from IPython.display import Image\n",
    "from sklearn.tree import export_graphviz\n",
    "import pydotplus\n",
    "dot_data= StringIO()\n",
    "export_graphviz(dt,out_file=dot_data,\n",
    "               filled=True, rounded=True,\n",
    "               special_characters=True)\n",
    "graph=pydotplus.graph_from_dot_data(dot_data.getvalue())\n",
    "Image(graph.create_png())\n"
   ]
  },
  {
   "cell_type": "code",
   "execution_count": null,
   "metadata": {},
   "outputs": [],
   "source": []
  },
  {
   "cell_type": "markdown",
   "metadata": {},
   "source": [
    "# KNN"
   ]
  },
  {
   "cell_type": "code",
   "execution_count": 33,
   "metadata": {},
   "outputs": [],
   "source": [
    "from sklearn.model_selection import GridSearchCV\n",
    "from sklearn.neighbors import KNeighborsRegressor"
   ]
  },
  {
   "cell_type": "code",
   "execution_count": 34,
   "metadata": {},
   "outputs": [],
   "source": [
    "knn_grid=GridSearchCV(estimator=KNeighborsRegressor(),param_grid={'n_neighbors':np.arange(1,20)},cv=5)"
   ]
  },
  {
   "cell_type": "code",
   "execution_count": 35,
   "metadata": {},
   "outputs": [
    {
     "data": {
      "text/plain": [
       "GridSearchCV(cv=5, error_score='raise-deprecating',\n",
       "             estimator=KNeighborsRegressor(algorithm='auto', leaf_size=30,\n",
       "                                           metric='minkowski',\n",
       "                                           metric_params=None, n_jobs=None,\n",
       "                                           n_neighbors=5, p=2,\n",
       "                                           weights='uniform'),\n",
       "             iid='warn', n_jobs=None,\n",
       "             param_grid={'n_neighbors': array([ 1,  2,  3,  4,  5,  6,  7,  8,  9, 10, 11, 12, 13, 14, 15, 16, 17,\n",
       "       18, 19])},\n",
       "             pre_dispatch='2*n_jobs', refit=True, return_train_score=False,\n",
       "             scoring=None, verbose=0)"
      ]
     },
     "execution_count": 35,
     "metadata": {},
     "output_type": "execute_result"
    }
   ],
   "source": [
    "knn_grid.fit(x_train,y_train)"
   ]
  },
  {
   "cell_type": "code",
   "execution_count": 36,
   "metadata": {},
   "outputs": [
    {
     "data": {
      "text/plain": [
       "{'n_neighbors': 3}"
      ]
     },
     "execution_count": 36,
     "metadata": {},
     "output_type": "execute_result"
    }
   ],
   "source": [
    "knn_grid.best_params_"
   ]
  },
  {
   "cell_type": "code",
   "execution_count": 37,
   "metadata": {},
   "outputs": [],
   "source": [
    "knn=KNeighborsRegressor(n_neighbors=3,p=2)"
   ]
  },
  {
   "cell_type": "code",
   "execution_count": 38,
   "metadata": {},
   "outputs": [
    {
     "data": {
      "text/plain": [
       "KNeighborsRegressor(algorithm='auto', leaf_size=30, metric='minkowski',\n",
       "                    metric_params=None, n_jobs=None, n_neighbors=3, p=2,\n",
       "                    weights='uniform')"
      ]
     },
     "execution_count": 38,
     "metadata": {},
     "output_type": "execute_result"
    }
   ],
   "source": [
    "knn.fit(x_train,y_train)"
   ]
  },
  {
   "cell_type": "code",
   "execution_count": 39,
   "metadata": {},
   "outputs": [],
   "source": [
    "y_pred_knn=knn.predict(x_test)"
   ]
  },
  {
   "cell_type": "code",
   "execution_count": 40,
   "metadata": {},
   "outputs": [
    {
     "data": {
      "text/plain": [
       "0.9999779656489405"
      ]
     },
     "execution_count": 40,
     "metadata": {},
     "output_type": "execute_result"
    }
   ],
   "source": [
    "r2_score(y_test,y_pred_knn)"
   ]
  },
  {
   "cell_type": "code",
   "execution_count": 41,
   "metadata": {},
   "outputs": [
    {
     "data": {
      "text/plain": [
       "[<matplotlib.lines.Line2D at 0x236aefc8c50>]"
      ]
     },
     "execution_count": 41,
     "metadata": {},
     "output_type": "execute_result"
    },
    {
     "data": {
      "image/png": "[encoded data removed]",
      "text/plain": [
       "<Figure size 432x288 with 1 Axes>"
      ]
     },
     "metadata": {
      "needs_background": "light"
     },
     "output_type": "display_data"
    }
   ],
   "source": [
    "\n",
    "plt.scatter(x_test[:,1],y_test)\n",
    "plt.plot(x_test[:,1],y_pred_knn,'g')"
   ]
  },
  {
   "cell_type": "markdown",
   "metadata": {},
   "source": [
    "# Linear regression"
   ]
  },
  {
   "cell_type": "code",
   "execution_count": 42,
   "metadata": {},
   "outputs": [
    {
     "data": {
      "text/plain": [
       "LinearRegression(copy_X=True, fit_intercept=True, n_jobs=None, normalize=False)"
      ]
     },
     "execution_count": 42,
     "metadata": {},
     "output_type": "execute_result"
    }
   ],
   "source": [
    "from sklearn.linear_model import LinearRegression\n",
    "regressor = LinearRegression()\n",
    "regressor.fit(x, y)"
   ]
  },
  {
   "cell_type": "code",
   "execution_count": 43,
   "metadata": {},
   "outputs": [],
   "source": [
    "y_pred_dt = regressor.predict(x_test)"
   ]
  },
  {
   "cell_type": "code",
   "execution_count": 44,
   "metadata": {},
   "outputs": [
    {
     "data": {
      "text/plain": [
       "0.9400585213177767"
      ]
     },
     "execution_count": 44,
     "metadata": {},
     "output_type": "execute_result"
    }
   ],
   "source": [
    "r2_score(y_test,y_pred_dt)"
   ]
  },
  {
   "cell_type": "code",
   "execution_count": 45,
   "metadata": {},
   "outputs": [
    {
     "data": {
      "text/plain": [
       "[<matplotlib.lines.Line2D at 0x236af014240>]"
      ]
     },
     "execution_count": 45,
     "metadata": {},
     "output_type": "execute_result"
    },
    {
     "data": {
      "image/png": "[encoded data removed]",
      "text/plain": [
       "<Figure size 432x288 with 1 Axes>"
      ]
     },
     "metadata": {
      "needs_background": "light"
     },
     "output_type": "display_data"
    }
   ],
   "source": [
    "\n",
    "plt.scatter(x_test[:,1],y_test)\n",
    "plt.plot(x_test[:,1],y_pred_dt,'y')"
   ]
  },
  {
   "cell_type": "markdown",
   "metadata": {},
   "source": [
    "# Random Forest"
   ]
  },
  {
   "cell_type": "code",
   "execution_count": 46,
   "metadata": {},
   "outputs": [],
   "source": [
    "from sklearn.ensemble import RandomForestRegressor"
   ]
  },
  {
   "cell_type": "code",
   "execution_count": 47,
   "metadata": {},
   "outputs": [],
   "source": [
    "rf_grid=GridSearchCV(estimator=RandomForestRegressor(),param_grid={'n_estimators':np.arange(1,20),'max_depth':np.arange(2,30)},cv=5)"
   ]
  },
  {
   "cell_type": "code",
   "execution_count": 48,
   "metadata": {},
   "outputs": [
    {
     "data": {
      "text/plain": [
       "GridSearchCV(cv=5, error_score='raise-deprecating',\n",
       "             estimator=RandomForestRegressor(bootstrap=True, criterion='mse',\n",
       "                                             max_depth=None,\n",
       "                                             max_features='auto',\n",
       "                                             max_leaf_nodes=None,\n",
       "                                             min_impurity_decrease=0.0,\n",
       "                                             min_impurity_split=None,\n",
       "                                             min_samples_leaf=1,\n",
       "                                             min_samples_split=2,\n",
       "                                             min_weight_fraction_leaf=0.0,\n",
       "                                             n_estimators='warn', n_jobs=None,\n",
       "                                             oob_score=False, random_state=None,\n",
       "                                             verbose=0, warm_start=False),\n",
       "             iid='warn', n_jobs=None,\n",
       "             param_grid={'max_depth': array([ 2,  3,  4,  5,  6,  7,  8,  9, 10, 11, 12, 13, 14, 15, 16, 17, 18,\n",
       "       19, 20, 21, 22, 23, 24, 25, 26, 27, 28, 29]),\n",
       "                         'n_estimators': array([ 1,  2,  3,  4,  5,  6,  7,  8,  9, 10, 11, 12, 13, 14, 15, 16, 17,\n",
       "       18, 19])},\n",
       "             pre_dispatch='2*n_jobs', refit=True, return_train_score=False,\n",
       "             scoring=None, verbose=0)"
      ]
     },
     "execution_count": 48,
     "metadata": {},
     "output_type": "execute_result"
    }
   ],
   "source": [
    "rf_grid.fit(x_train,y_train)"
   ]
  },
  {
   "cell_type": "code",
   "execution_count": 49,
   "metadata": {},
   "outputs": [
    {
     "data": {
      "text/plain": [
       "{'max_depth': 23, 'n_estimators': 19}"
      ]
     },
     "execution_count": 49,
     "metadata": {},
     "output_type": "execute_result"
    }
   ],
   "source": [
    "rf_grid.best_params_"
   ]
  },
  {
   "cell_type": "code",
   "execution_count": 50,
   "metadata": {},
   "outputs": [
    {
     "data": {
      "text/plain": [
       "RandomForestRegressor(bootstrap=True, criterion='mse', max_depth=27,\n",
       "                      max_features='auto', max_leaf_nodes=None,\n",
       "                      min_impurity_decrease=0.0, min_impurity_split=None,\n",
       "                      min_samples_leaf=1, min_samples_split=2,\n",
       "                      min_weight_fraction_leaf=0.0, n_estimators=19,\n",
       "                      n_jobs=None, oob_score=False, random_state=None,\n",
       "                      verbose=0, warm_start=False)"
      ]
     },
     "execution_count": 50,
     "metadata": {},
     "output_type": "execute_result"
    }
   ],
   "source": [
    "rf=RandomForestRegressor(n_estimators=19,max_depth= 27)\n",
    "rf.fit(x_train,y_train)"
   ]
  },
  {
   "cell_type": "code",
   "execution_count": 51,
   "metadata": {},
   "outputs": [
    {
     "data": {
      "text/plain": [
       "array([ 201.42030778,  976.72209536, 1797.32488743, ...,  109.89067743,\n",
       "       3600.        , 3586.40217714])"
      ]
     },
     "execution_count": 51,
     "metadata": {},
     "output_type": "execute_result"
    }
   ],
   "source": [
    "y_pred_rf=rf.predict(x_test)\n",
    "y_pred_rf"
   ]
  },
  {
   "cell_type": "code",
   "execution_count": 52,
   "metadata": {},
   "outputs": [
    {
     "data": {
      "text/plain": [
       "0.999999993500781"
      ]
     },
     "execution_count": 52,
     "metadata": {},
     "output_type": "execute_result"
    }
   ],
   "source": [
    "r2_score(y_test,y_pred_rf)"
   ]
  },
  {
   "cell_type": "code",
   "execution_count": 56,
   "metadata": {},
   "outputs": [
    {
     "data": {
      "text/plain": [
       "['modelrf.save']"
      ]
     },
     "execution_count": 56,
     "metadata": {},
     "output_type": "execute_result"
    }
   ],
   "source": [
    "import joblib\n",
    "joblib.dump(rf,'modelrf.save')"
   ]
  },
  {
   "cell_type": "code",
   "execution_count": 53,
   "metadata": {},
   "outputs": [
    {
     "data": {
      "text/plain": [
       "[<matplotlib.lines.Line2D at 0x236b343ebe0>]"
      ]
     },
     "execution_count": 53,
     "metadata": {},
     "output_type": "execute_result"
    },
    {
     "data": {
      "image/png": "[encoded data removed]",
      "text/plain": [
       "<Figure size 432x288 with 1 Axes>"
      ]
     },
     "metadata": {
      "needs_background": "light"
     },
     "output_type": "display_data"
    }
   ],
   "source": [
    "plt.scatter(x_test[:,1],y_test)\n",
    "plt.plot(x_test[:,1],y_pred_rf,'r')"
   ]
  },
  {
   "cell_type": "code",
   "execution_count": null,
   "metadata": {},
   "outputs": [],
   "source": []
  }
 ],
 "metadata": {
  "kernelspec": {
   "display_name": "Python 3",
   "language": "python",
   "name": "python3"
  },
  "language_info": {
   "codemirror_mode": {
    "name": "ipython",
    "version": 3
   },
   "file_extension": ".py",
   "mimetype": "text/x-python",
   "name": "python",
   "nbconvert_exporter": "python",
   "pygments_lexer": "ipython3",
   "version": "3.7.3"
  }
 },
 "nbformat": 4,
 "nbformat_minor": 5
}
